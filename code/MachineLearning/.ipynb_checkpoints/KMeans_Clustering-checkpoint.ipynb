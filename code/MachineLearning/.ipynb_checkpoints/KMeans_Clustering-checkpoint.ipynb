{
 "cells": [
  {
   "cell_type": "markdown",
   "metadata": {},
   "source": [
    "# KMeans Clustering using SKLearn\n",
    "\n",
    "\n",
    "Created By: Debasis Das\n",
    "\n",
    "Using SKLearn to explore KMeans Clustering and Plotting the cluster centroids along with the cluster points"
   ]
  },
  {
   "cell_type": "code",
   "execution_count": 4,
   "metadata": {},
   "outputs": [
    {
     "name": "stdout",
     "output_type": "stream",
     "text": [
      "cluster_centroids =  [[ 6.38423083 -1.0142913 ]\n",
      " [ 1.67176795  0.63576739]\n",
      " [-5.28182536 -0.28756359]]\n",
      "kmeans_labels =  [2 2 2 2 1 1 1 0 1 0 1]\n"
     ]
    },
    {
     "data": {
      "text/plain": [
       "<matplotlib.collections.PathCollection at 0x7fef5a604c40>"
      ]
     },
     "execution_count": 4,
     "metadata": {},
     "output_type": "execute_result"
    },
    {
     "data": {
      "image/png": "[encoded data removed]",
      "text/plain": [
       "<Figure size 432x288 with 1 Axes>"
      ]
     },
     "metadata": {
      "needs_background": "light"
     },
     "output_type": "display_data"
    }
   ],
   "source": [
    "import pandas as pd\n",
    "import numpy as np\n",
    "from sklearn.cluster import KMeans\n",
    "from sklearn.decomposition import PCA\n",
    "import matplotlib.pyplot as plt\n",
    "\n",
    "\n",
    "A = [\n",
    "[10,10],\n",
    "[11,10],\n",
    "[12,10],\n",
    "[10,11],\n",
    "[15,17],\n",
    "[13.5,15],\n",
    "[15,16],\n",
    "[17,18],\n",
    "[14.5,19],\n",
    "[20,20],\n",
    "[13.5,14.5]\n",
    "]\n",
    "\n",
    "df = pd.DataFrame(A)\n",
    "number_clusters = 3\n",
    "pca = PCA(n_components=2) \n",
    "pca.fit(df)\n",
    "x_pca = pca.fit_transform(df)\n",
    "km = KMeans(\n",
    "    n_clusters=number_clusters, init='random',\n",
    "    n_init=10, max_iter=300, \n",
    "    tol=1e-04, random_state=0\n",
    ").fit(x_pca)\n",
    "\n",
    "\n",
    "kmeans_labels = km.labels_\n",
    "unique_labels = np.unique(kmeans_labels)\n",
    "for i in unique_labels:\n",
    "    plt.scatter(\n",
    "        x_pca[kmeans_labels == i, 0], x_pca[kmeans_labels == i, 1]\n",
    "    )\n",
    "cluster_centroids = km.cluster_centers_\n",
    "print(\"cluster_centroids = \",cluster_centroids)\n",
    "print(\"kmeans_labels = \",kmeans_labels)\n",
    "plt.scatter(cluster_centroids[:,0], cluster_centroids[:,1],linewidths = 3, s=150,marker=\"x\", color='r')\n",
    "\n"
   ]
  },
  {
   "cell_type": "code",
   "execution_count": null,
   "metadata": {},
   "outputs": [],
   "source": []
  }
 ],
 "metadata": {
  "kernelspec": {
   "display_name": "Python 3",
   "language": "python",
   "name": "python3"
  },
  "language_info": {
   "codemirror_mode": {
    "name": "ipython",
    "version": 3
   },
   "file_extension": ".py",
   "mimetype": "text/x-python",
   "name": "python",
   "nbconvert_exporter": "python",
   "pygments_lexer": "ipython3",
   "version": "3.8.5"
  }
 },
 "nbformat": 4,
 "nbformat_minor": 4
}
