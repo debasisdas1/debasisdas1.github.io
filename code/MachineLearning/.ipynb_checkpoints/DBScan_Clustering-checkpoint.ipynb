{
 "cells": [
  {
   "cell_type": "markdown",
   "metadata": {},
   "source": [
    "# DBScan Clustering Sample\n",
    "\n",
    "Created By: Debasis Das (26-Aug-2021)\n",
    "\n",
    "In this post we will generate a DBScan cluster using SKLearn DBSCAN module and will generate the following\n",
    "\n",
    "1. List of noise/outlier points (not readily available in DBSCAN model output)\n",
    "2. Index of noise/outlier points\n",
    "3. View the clusters by cluster label and identify all the core points in the clusters\n",
    "4. All the core points, count of core point, indexes of the core points\n",
    "5. Estimated number of clusters\n",
    "6. Silhouette Score of the Clustering\n",
    "7. Silhouette Score of the Clustering by ignoring the noise points\n",
    "\n",
    "Note: the noise points are those with label -1\n",
    "\n"
   ]
  },
  {
   "cell_type": "code",
   "execution_count": 1,
   "metadata": {},
   "outputs": [
    {
     "name": "stdout",
     "output_type": "stream",
     "text": [
      "The points prior to running DBScan Clustering\n"
     ]
    },
    {
     "data": {
      "image/png": "[encoded data removed]",
      "text/plain": [
       "<Figure size 432x288 with 1 Axes>"
      ]
     },
     "metadata": {
      "needs_background": "light"
     },
     "output_type": "display_data"
    },
    {
     "name": "stdout",
     "output_type": "stream",
     "text": [
      "Noise/Outliers Index are at the following indexes  [5]\n",
      "Noise/outlier point =  [25, 80]\n",
      "--------------------\n",
      "unique labels are  {0, 1, -1}\n",
      "--------------------\n",
      "cluster points for  0\n",
      "cluster_indexes =  [0, 1, 2]\n",
      "exact point =  [1, 2]\n",
      "exact point =  [2, 2]\n",
      "exact point =  [2, 3]\n",
      "----------\n",
      "cluster points for  1\n",
      "cluster_indexes =  [3, 4]\n",
      "exact point =  [8, 7]\n",
      "exact point =  [8, 8]\n",
      "----------\n",
      "cluster points for  -1\n",
      "cluster_indexes =  [5]\n",
      "exact point =  [25, 80]\n",
      "----------\n",
      "--------------------\n",
      "Labels  [ 0  0  0  1  1 -1]\n",
      "Indices of Core Samples =  [0 1 2 3 4]\n",
      "Copy of each core sample found by training =  [[1 2]\n",
      " [2 2]\n",
      " [2 3]\n",
      " [8 7]\n",
      " [8 8]]\n",
      "Count of Core Samples  5\n",
      "Estimated no. of clusters: 3\n",
      "Estimated no. of noise points: 1\n",
      "--------------------\n",
      "silhouette_avg =  0.7227526416896678\n",
      "Silhoutter Avg ignoring noise points  0.8673031700276013\n"
     ]
    }
   ],
   "source": [
    "import numpy as np\n",
    "from sklearn.cluster import DBSCAN\n",
    "from sklearn.metrics import silhouette_samples, silhouette_score\n",
    "import matplotlib.pyplot as plt\n",
    "\n",
    "epsilon = 3\n",
    "min_samples = 2\n",
    "\n",
    "X = [\n",
    "[1,2],\n",
    "[2,2],\n",
    "[2,3],\n",
    "[8,7],\n",
    "[8,8],\n",
    "[25,80]]\n",
    "\n",
    "# plot\n",
    "A = np.array(X)\n",
    "plt.scatter(\n",
    "   A[:, 0], A[:, 1],\n",
    "   c='white', marker='o',\n",
    "   edgecolor='red', s=50\n",
    ")\n",
    "print(\"The points prior to running DBScan Clustering\")\n",
    "plt.show()\n",
    "\n",
    "\n",
    "\n",
    "db = DBSCAN(eps=epsilon, min_samples=min_samples).fit(X)\n",
    "\n",
    "core_samples_mask = np.zeros_like(db.labels_, dtype=bool)\n",
    "core_samples_mask[db.core_sample_indices_] = True\n",
    "labels = db.labels_\n",
    "no_clusters = len(np.unique(labels) )\n",
    "no_noise = np.sum(np.array(labels) == -1, axis=0)\n",
    "\n",
    "noise_index = []\n",
    "for i in range(len(labels)):\n",
    "    if labels[i] == -1:\n",
    "        noise_index.append(i)\n",
    "print(\"Noise/Outliers Index are at the following indexes \",noise_index)\n",
    "for obj in noise_index:\n",
    "    print(\"Noise/outlier point = \",X[obj])\n",
    "\n",
    "print(\"-\"*20) \n",
    "unique_labels = set(labels)\n",
    "print(\"unique labels are \",unique_labels)\n",
    "print(\"-\"*20)\n",
    "for label in unique_labels:\n",
    "    print(\"cluster points for \", label)\n",
    "    cluster_indexes = []\n",
    "    for i in range(len(labels)):\n",
    "        if labels[i] == label:\n",
    "            cluster_indexes.append(i)\n",
    "    print(\"cluster_indexes = \",cluster_indexes)        \n",
    "    for obj in cluster_indexes:\n",
    "        print(\"exact point = \",X[obj])\n",
    "    print(\"-\"*10)    \n",
    "\n",
    "silhouette_avg = silhouette_score(X, labels)\n",
    "\n",
    "print(\"-\"*20)    \n",
    "print(\"Labels \",labels)\n",
    "print(\"Indices of Core Samples = \",db.core_sample_indices_)\n",
    "print(\"Copy of each core sample found by training = \",db.components_)\n",
    "print(\"Count of Core Samples \",len(db.core_sample_indices_))\n",
    "print('Estimated no. of clusters: %d' % no_clusters)\n",
    "print('Estimated no. of noise points: %d' % no_noise)\n",
    "print(\"-\"*20)    \n",
    "print(\"silhouette_avg = \",silhouette_avg)\n",
    "print(\"Silhoutter Avg ignoring noise points \",(silhouette_avg * len(labels))/(len(labels)-no_noise) )"
   ]
  },
  {
   "cell_type": "code",
   "execution_count": null,
   "metadata": {},
   "outputs": [],
   "source": []
  }
 ],
 "metadata": {
  "kernelspec": {
   "display_name": "Python 3",
   "language": "python",
   "name": "python3"
  },
  "language_info": {
   "codemirror_mode": {
    "name": "ipython",
    "version": 3
   },
   "file_extension": ".py",
   "mimetype": "text/x-python",
   "name": "python",
   "nbconvert_exporter": "python",
   "pygments_lexer": "ipython3",
   "version": "3.8.5"
  }
 },
 "nbformat": 4,
 "nbformat_minor": 4
}
