{
 "cells": [
  {
   "cell_type": "markdown",
   "metadata": {},
   "source": [
    "# PCA in Python"
   ]
  },
  {
   "cell_type": "markdown",
   "metadata": {},
   "source": [
    "Added by Debasis Das (25-Sept-2021)\n",
    "\n",
    "Content taken from https://www.youtube.com/watch?v=Lsue2gEM9D0"
   ]
  },
  {
   "cell_type": "code",
   "execution_count": 4,
   "metadata": {},
   "outputs": [],
   "source": [
    "import pandas as pd\n",
    "import numpy as np\n",
    "import random as rd\n",
    "from sklearn.decomposition import PCA\n",
    "from sklearn import preprocessing\n",
    "import matplotlib.pyplot as plt"
   ]
  },
  {
   "cell_type": "code",
   "execution_count": 7,
   "metadata": {},
   "outputs": [],
   "source": [
    "students = ['Student' + str(i) for i in range(1,101)]\n",
    "courses = ['Course_' + str(i) for i in range(1,6)]\n",
    "data = pd.DataFrame(columns = [*courses], index= students)"
   ]
  },
  {
   "cell_type": "code",
   "execution_count": 9,
   "metadata": {},
   "outputs": [
    {
     "name": "stdout",
     "output_type": "stream",
     "text": [
      "         Course_1 Course_2 Course_3 Course_4 Course_5\n",
      "Student1       85       63       76       66       74\n",
      "Student2      123       92       92      107       94\n",
      "Student3       99       74      107       81       94\n",
      "Student4       75       53       66       84       57\n",
      "Student5       49       49       43       43       63\n"
     ]
    }
   ],
   "source": [
    "for student in students:\n",
    "    data.loc[student,'Course_1':'Course_5'] = np.random.poisson(lam = rd.randrange(10,100),size = 5)\n",
    "\n",
    "print(data.head())    \n"
   ]
  },
  {
   "cell_type": "code",
   "execution_count": null,
   "metadata": {},
   "outputs": [],
   "source": []
  }
 ],
 "metadata": {
  "kernelspec": {
   "display_name": "Python 3",
   "language": "python",
   "name": "python3"
  },
  "language_info": {
   "codemirror_mode": {
    "name": "ipython",
    "version": 3
   },
   "file_extension": ".py",
   "mimetype": "text/x-python",
   "name": "python",
   "nbconvert_exporter": "python",
   "pygments_lexer": "ipython3",
   "version": "3.8.5"
  }
 },
 "nbformat": 4,
 "nbformat_minor": 4
}
