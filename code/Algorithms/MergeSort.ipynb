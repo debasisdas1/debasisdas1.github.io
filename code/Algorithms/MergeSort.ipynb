{
 "cells": [
  {
   "cell_type": "markdown",
   "metadata": {},
   "source": [
    "# Merge Sort\n",
    "\n",
    "## Approach 1:\n",
    "In Place Sorting\n",
    "\n",
    "- Divide the array into two parts (left array and right array)\n",
    "- Keep dividing recursively till there is only 1 element left in the left and right array.\n",
    "- Start merging the left and right array into sorted array comparing elements of the two arrays and progressively incrementing the counter.\n"
   ]
  },
  {
   "cell_type": "code",
   "execution_count": 12,
   "metadata": {},
   "outputs": [
    {
     "name": "stdout",
     "output_type": "stream",
     "text": [
      "[30, 40, 60, 100, 200, 300]\n"
     ]
    }
   ],
   "source": [
    "def mergeSort(data):\n",
    "    if len(data) == 1:\n",
    "        return data\n",
    "    mid = len(data) // 2\n",
    "    leftArray = data[:mid]\n",
    "    rightArray = data[mid:]\n",
    "    \n",
    "    mergeSort(leftArray)\n",
    "    mergeSort(rightArray)\n",
    "    \n",
    "#     At this point the array would be completely broken down\n",
    "    i = 0\n",
    "    j = 0\n",
    "    k = 0\n",
    "    \n",
    "    \n",
    "    while i < len(leftArray) and j < len(rightArray):\n",
    "        if leftArray[i] < rightArray[j]:\n",
    "            data[k] = leftArray[i]\n",
    "            i = i + 1\n",
    "        else:\n",
    "            data[k] = rightArray[j]\n",
    "            j = j+1\n",
    "        k = k + 1\n",
    "    \n",
    "    \n",
    "    while i < len(leftArray):\n",
    "        data[k] = leftArray[i]\n",
    "        k = k+1\n",
    "        i = i+1\n",
    "        \n",
    "    while j < len(rightArray):\n",
    "        data[k] = rightArray[j]\n",
    "        j = j+1\n",
    "        k = k+1\n",
    "    \n",
    "    return data\n",
    "\n",
    "print(mergeSort([100,200,300,30,40,60]))"
   ]
  },
  {
   "cell_type": "markdown",
   "metadata": {},
   "source": [
    "## Approach 2"
   ]
  },
  {
   "cell_type": "code",
   "execution_count": 13,
   "metadata": {},
   "outputs": [
    {
     "name": "stdout",
     "output_type": "stream",
     "text": [
      "[30, 40, 60, 100, 200, 300]\n"
     ]
    }
   ],
   "source": [
    "def mergeSort2(data):\n",
    "    if len(data) == 1:\n",
    "        return data\n",
    "    mid = len(data) // 2\n",
    "    leftArray = data[:mid]\n",
    "    rightArray = data[mid:]\n",
    "    \n",
    "    mergeSort(leftArray)\n",
    "    mergeSort(rightArray)\n",
    "\n",
    "    return mergedData(leftArray,rightArray)\n",
    "\n",
    "def mergedData(leftArray,rightArray):\n",
    "    data = []\n",
    "    i = 0\n",
    "    j = 0\n",
    "    \n",
    "    while i < len(leftArray) and j < len(rightArray):\n",
    "        if leftArray[i] < rightArray[j]:\n",
    "            data.append(leftArray[i])\n",
    "            i += 1\n",
    "        else:\n",
    "            data.append(rightArray[j])\n",
    "            j += 1\n",
    "\n",
    "    while i < len(leftArray):\n",
    "        data.append(leftArray[i])\n",
    "        i = i+1\n",
    "        \n",
    "    while j < len(rightArray):\n",
    "        data.append(rightArray[j])\n",
    "        j = j+1\n",
    "\n",
    "    return data\n",
    "\n",
    "\n",
    "print(mergeSort2([100,200,300,30,40,60]))"
   ]
  },
  {
   "cell_type": "markdown",
   "metadata": {},
   "source": [
    "## Additional Methods\n",
    "\n",
    "In this sample we will merge two already sorted array and return a new array"
   ]
  },
  {
   "cell_type": "code",
   "execution_count": 19,
   "metadata": {},
   "outputs": [
    {
     "name": "stdout",
     "output_type": "stream",
     "text": [
      "[1, 2, 3, 4, 5, 6, 7, 8]\n"
     ]
    }
   ],
   "source": [
    "def merge(data1, data2):\n",
    "    mergedData = []\n",
    "    i = 0\n",
    "    j = 0\n",
    "    while i < len(data1) and j < len(data2):\n",
    "        if data1[i] < data2[j]:\n",
    "            mergedData.append(data1[i])\n",
    "            i += 1\n",
    "        else:\n",
    "            mergedData.append(data2[j])\n",
    "            j += 1\n",
    "    \n",
    "    while (i < len(data1)):\n",
    "        mergedData.append(data1[i])\n",
    "        i += 1\n",
    "    while (j < len(data2)):\n",
    "        mergedData.append(data2[j])\n",
    "        j += 1\n",
    "        \n",
    "    return mergedData\n",
    "\n",
    "\n",
    "print(merge([1,3,5,7],[2,4,6,8]))\n",
    "\n",
    "\n",
    "            \n",
    "        "
   ]
  }
 ],
 "metadata": {
  "kernelspec": {
   "display_name": "Python 3",
   "language": "python",
   "name": "python3"
  },
  "language_info": {
   "codemirror_mode": {
    "name": "ipython",
    "version": 3
   },
   "file_extension": ".py",
   "mimetype": "text/x-python",
   "name": "python",
   "nbconvert_exporter": "python",
   "pygments_lexer": "ipython3",
   "version": "3.8.5"
  }
 },
 "nbformat": 4,
 "nbformat_minor": 4
}
