{
 "cells": [
  {
   "cell_type": "markdown",
   "metadata": {},
   "source": [
    "# Linear Search\n",
    "\n",
    "Start from the leftmost element of arr[] and one by one compare x with each element of arr[]\n",
    "\n",
    "If x matches with an element, return the index.\n",
    "\n",
    "If x doesn’t match with any of elements, return -1.\n",
    "\n",
    "Time Complexity - O(n)"
   ]
  },
  {
   "cell_type": "code",
   "execution_count": 1,
   "metadata": {},
   "outputs": [
    {
     "name": "stdout",
     "output_type": "stream",
     "text": [
      "1\n"
     ]
    }
   ],
   "source": [
    "arr = [1,2,3,6,76,21,32]\n",
    "\n",
    "if 2 in arr:\n",
    "    print(arr.index(2))"
   ]
  },
  {
   "cell_type": "code",
   "execution_count": 6,
   "metadata": {},
   "outputs": [
    {
     "name": "stdout",
     "output_type": "stream",
     "text": [
      "6\n",
      "-1\n"
     ]
    }
   ],
   "source": [
    "def search (arr, search_val):\n",
    "    for i in range(len(arr)):\n",
    "        if arr[i] == search_val:\n",
    "            return i\n",
    "\n",
    "    return -1 \n",
    "# -1 corresponds to not found\n",
    "\n",
    "print(search(arr,32))\n",
    "print(search(arr,654))"
   ]
  },
  {
   "cell_type": "markdown",
   "metadata": {},
   "source": [
    "# Binary Search\n",
    "\n",
    "- Collection of elements that is already sorted by ignoring half of the elements after just one comparison. \n",
    "\n",
    "- Compare x with the middle element.\n",
    "- If x matches with the middle element, we return the mid index.\n",
    "- Else if x is greater than the mid element, then x can only lie in the right (greater) half subarray after the mid element. Then we apply the algorithm again for the right half.\n",
    "- Else if x is smaller, the target x must lie in the left (lower) half. So we apply the algorithm for the left half."
   ]
  },
  {
   "cell_type": "code",
   "execution_count": 42,
   "metadata": {},
   "outputs": [
    {
     "name": "stdout",
     "output_type": "stream",
     "text": [
      "-1\n"
     ]
    }
   ],
   "source": [
    "def binarySearch(data,search_value):\n",
    "    low = 0\n",
    "    mid = 0\n",
    "    high = len(data) - 1\n",
    "    \n",
    "    while low <= high:\n",
    "        mid = (low + high) // 2\n",
    "        if data[mid] < search_value:\n",
    "            low = mid + 1\n",
    "        elif data[mid] > search_value:\n",
    "            high = mid - 1\n",
    "        else:\n",
    "            return mid\n",
    "    return -1\n",
    "\n",
    "print(binarySearch([1,2,3,4,5,6,7,8,9,10],11))\n",
    "    "
   ]
  },
  {
   "cell_type": "markdown",
   "metadata": {},
   "source": [
    "# Bubble Sort\n",
    "\n",
    "Bubble sort is a sorting algorithm that is implemented by starting in the beginning of the array and swapping the first two elements only if the first element is greater than the second element. \n",
    "\n",
    "This comparison is then moved onto the next pair and so on and so forth. This is done until the array is completely sorted. \n",
    "\n",
    "The smaller items slowly “bubble” up to the beginning of the array. Sometimes this algorithm is refered as Sinking sort, due to the larger, or heavier elements sinking to the end of the array.\n",
    "\n",
    "Runtime:\n",
    "\n",
    "Average: O(N^2)\n",
    "\n",
    "Worst: O(N^2)\n",
    "\n",
    "Memory: O(1)\n"
   ]
  },
  {
   "cell_type": "code",
   "execution_count": 34,
   "metadata": {},
   "outputs": [
    {
     "name": "stdout",
     "output_type": "stream",
     "text": [
      "0 1\n",
      "[90, 80, 70, 60, 50]\n",
      "[80, 90, 70, 60, 50]\n",
      "0 2\n",
      "[80, 90, 70, 60, 50]\n",
      "[80, 70, 90, 60, 50]\n",
      "0 3\n",
      "[80, 70, 90, 60, 50]\n",
      "[80, 70, 60, 90, 50]\n",
      "0 4\n",
      "[80, 70, 60, 90, 50]\n",
      "[80, 70, 60, 50, 90]\n",
      "1 1\n",
      "[80, 70, 60, 50, 90]\n",
      "[70, 80, 60, 50, 90]\n",
      "1 2\n",
      "[70, 80, 60, 50, 90]\n",
      "[70, 60, 80, 50, 90]\n",
      "1 3\n",
      "[70, 60, 80, 50, 90]\n",
      "[70, 60, 50, 80, 90]\n",
      "2 1\n",
      "[70, 60, 50, 80, 90]\n",
      "[60, 70, 50, 80, 90]\n",
      "2 2\n",
      "[60, 70, 50, 80, 90]\n",
      "[60, 50, 70, 80, 90]\n",
      "3 1\n",
      "[60, 50, 70, 80, 90]\n",
      "[50, 60, 70, 80, 90]\n",
      "[50, 60, 70, 80, 90]\n"
     ]
    }
   ],
   "source": [
    "def bubbleSort(data):\n",
    "    for i in range(0,len(data)):\n",
    "        for j in range(1,len(data)-i):\n",
    "            print(i,j)\n",
    "            print(data)\n",
    "            if data[j] < data [j-1]:\n",
    "                temp = data[j-1]\n",
    "                data[j-1] = data[j]\n",
    "                data[j] = temp\n",
    "            print(data)\n",
    "\n",
    "    return data           \n",
    "\n",
    "print(bubbleSort([90,80,70,60,50]))\n"
   ]
  },
  {
   "cell_type": "code",
   "execution_count": 37,
   "metadata": {},
   "outputs": [
    {
     "name": "stdout",
     "output_type": "stream",
     "text": [
      "0 1\n",
      "[90, 80, 70, 60, 50]\n",
      "[80, 90, 70, 60, 50]\n",
      "0 2\n",
      "[80, 90, 70, 60, 50]\n",
      "[80, 70, 90, 60, 50]\n",
      "0 3\n",
      "[80, 70, 90, 60, 50]\n",
      "[80, 70, 60, 90, 50]\n",
      "0 4\n",
      "[80, 70, 60, 90, 50]\n",
      "[80, 70, 60, 50, 90]\n",
      "1 1\n",
      "[80, 70, 60, 50, 90]\n",
      "[70, 80, 60, 50, 90]\n",
      "1 2\n",
      "[70, 80, 60, 50, 90]\n",
      "[70, 60, 80, 50, 90]\n",
      "1 3\n",
      "[70, 60, 80, 50, 90]\n",
      "[70, 60, 50, 80, 90]\n",
      "2 1\n",
      "[70, 60, 50, 80, 90]\n",
      "[60, 70, 50, 80, 90]\n",
      "2 2\n",
      "[60, 70, 50, 80, 90]\n",
      "[60, 50, 70, 80, 90]\n",
      "3 1\n",
      "[60, 50, 70, 80, 90]\n",
      "[50, 60, 70, 80, 90]\n",
      "[50, 60, 70, 80, 90]\n"
     ]
    }
   ],
   "source": [
    "def bubbleSort1(data):\n",
    "    for i in range(0,len(data)):\n",
    "        swapped = False\n",
    "        for j in range(1,len(data)-i):\n",
    "            print(i,j)\n",
    "            print(data)\n",
    "            if data[j] < data [j-1]:\n",
    "                temp = data[j-1]\n",
    "                data[j-1] = data[j]\n",
    "                data[j] = temp\n",
    "                swapped = True\n",
    "            print(data)\n",
    "        \n",
    "        if swapped == False:\n",
    "            break\n",
    "    return data           \n",
    "\n",
    "print(bubbleSort1([90,80,70,60,50]))\n",
    "\n",
    "\n",
    "        "
   ]
  },
  {
   "cell_type": "markdown",
   "metadata": {},
   "source": [
    "# Selection Sort\n",
    "\n",
    "Find the lowest number in the array. You must start at index 0, loop through all the numbers in the array, and keep track of what the lowest number is.\n",
    "\n",
    "Swap the lowest number with the number at index 0. Now, the sorted portion consists of just the number at index 0.\n",
    "\n",
    "Go to index 1.\n",
    "\n",
    "Find the lowest number in the rest of the array. This time you start looking from index 1. Again you loop until the end of the array and keep track of the lowest number you come across.\n",
    "\n",
    "Swap the lowest number with the number at index 1. Now, the sorted portion contains two numbers and extends from index 0 to index 1.\n",
    "\n",
    "Go to index 2.\n",
    "Find the lowest number in the rest of the array, starting from index 2, and swap it with the one at index 2. Now, the array is sorted from index 0 to 2; this range contains the three lowest numbers in the array.\n",
    "\n",
    "And continue until no numbers remain to be sorted.\n",
    "It is called a \"selection\" sort because at every step you search through the rest of the array to select the next lowest number.\n",
    "\n"
   ]
  },
  {
   "cell_type": "code",
   "execution_count": 14,
   "metadata": {},
   "outputs": [],
   "source": [
    "def selectionSort(data):\n",
    "    if len(data) > 1:\n",
    "        for i in range(len(data)):\n",
    "            print(data)\n",
    "            minIndex = i\n",
    "            for j in range(i+1,len(data)):\n",
    "                if data[minIndex] > data[j]:\n",
    "                    minIndex = j\n",
    "                    data[i], data[minIndex] = data[minIndex],data[i]\n",
    "        return data\n",
    "    else:\n",
    "        return data\n",
    "    "
   ]
  },
  {
   "cell_type": "code",
   "execution_count": 17,
   "metadata": {},
   "outputs": [
    {
     "name": "stdout",
     "output_type": "stream",
     "text": [
      "[100, 90, 80, 70]\n",
      "[70, 100, 90, 80]\n",
      "[70, 80, 100, 90]\n",
      "[70, 80, 90, 100]\n",
      "[70, 80, 90, 100]\n"
     ]
    }
   ],
   "source": [
    "print(selectionSort([100,90,80,70]))"
   ]
  },
  {
   "cell_type": "code",
   "execution_count": null,
   "metadata": {},
   "outputs": [],
   "source": [
    "# Binary search\n",
    "# Hash search\n",
    "# Breadth-first search\n",
    "# Depth-first search\n",
    "# Kruskal’s MST Algorithm\n",
    "# Prim’s MST Algorithm\n",
    "# Dijkstra’s shortest path Algorithm\n",
    "# Insertion sort\n",
    "# Quicksort\n",
    "# Heap sort\n",
    "# Merge sort\n",
    "# Bucket sort\n",
    "# Radix sort\n"
   ]
  }
 ],
 "metadata": {
  "kernelspec": {
   "display_name": "Python 3",
   "language": "python",
   "name": "python3"
  },
  "language_info": {
   "codemirror_mode": {
    "name": "ipython",
    "version": 3
   },
   "file_extension": ".py",
   "mimetype": "text/x-python",
   "name": "python",
   "nbconvert_exporter": "python",
   "pygments_lexer": "ipython3",
   "version": "3.8.5"
  }
 },
 "nbformat": 4,
 "nbformat_minor": 4
}
