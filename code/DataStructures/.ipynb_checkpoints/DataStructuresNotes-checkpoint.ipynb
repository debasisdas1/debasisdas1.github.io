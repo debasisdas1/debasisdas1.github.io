{
 "cells": [
  {
   "cell_type": "code",
   "execution_count": null,
   "metadata": {},
   "outputs": [],
   "source": [
    "Arrays\n",
    "Array Lists\n",
    "Trees\n",
    "Binary Search\n",
    "Red-Black,\n",
    "binary Tree\n",
    "Binary Min Heap\n",
    "Binary Max Heap\n",
    "BST\n",
    "AVL\n",
    "2-3\n",
    "Splay\n",
    "Graphs un directed\n",
    "Directed Graohs\n",
    "Weighted Graphs\n",
    "UnWeighted Graphs\n",
    "Hash Tables\n",
    "Heaps\n",
    "Linked Lists\n",
    "singly linked\n",
    "doubly linked\n",
    "circularly linked\n",
    "Stacks\n",
    "Queues\n",
    "Priority Queues\n"
   ]
  }
 ],
 "metadata": {
  "kernelspec": {
   "display_name": "Python 3",
   "language": "python",
   "name": "python3"
  },
  "language_info": {
   "codemirror_mode": {
    "name": "ipython",
    "version": 3
   },
   "file_extension": ".py",
   "mimetype": "text/x-python",
   "name": "python",
   "nbconvert_exporter": "python",
   "pygments_lexer": "ipython3",
   "version": "3.8.5"
  }
 },
 "nbformat": 4,
 "nbformat_minor": 4
}
